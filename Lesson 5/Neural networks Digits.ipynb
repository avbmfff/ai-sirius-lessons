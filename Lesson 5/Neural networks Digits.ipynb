{
  "nbformat": 4,
  "nbformat_minor": 0,
  "metadata": {
    "colab": {
      "provenance": []
    },
    "kernelspec": {
      "name": "python3",
      "display_name": "Python 3"
    },
    "language_info": {
      "name": "python"
    }
  },
  "cells": [
    {
      "cell_type": "markdown",
      "source": [
        "# Простая нейронная сеть для распознавания цифр (0-9)"
      ],
      "metadata": {
        "id": "iE_FzPDRLMT6"
      }
    },
    {
      "cell_type": "markdown",
      "source": [
        "* Запустите ячейку с TensorFlow, посмотрите как быстро и просто строится нейросеть.\n",
        "\n",
        "* Попробуйте изменить количество слоёв, нейронов или эпох обучения — посмотрите, как меняется точность.\n",
        "\n",
        "* Во второй части попробуй понять, как работает один нейрон, что такое веса и функция активации.\n",
        "\n",
        "* Попробуй изменить веса, скорость обучения и посмотреть, как меняются предсказания."
      ],
      "metadata": {
        "id": "-_madAX-LBqQ"
      }
    },
    {
      "cell_type": "markdown",
      "source": [
        "## Часть 1. С использованием TensorFlow и Keras"
      ],
      "metadata": {
        "id": "AQ7BiChGLjub"
      }
    },
    {
      "cell_type": "code",
      "source": [
        "import tensorflow as tf  # Импортируем TensorFlow\n",
        "from tensorflow.keras import layers, models  # Импортируем модули для создания модели"
      ],
      "metadata": {
        "id": "kSNTRzm1L3Nc"
      },
      "execution_count": null,
      "outputs": []
    },
    {
      "cell_type": "code",
      "execution_count": null,
      "metadata": {
        "id": "IdZ4-QLXKwHE"
      },
      "outputs": [],
      "source": [
        "# 1. Загружаем набор данных MNIST с изображениями цифр 0-9\n",
        "mnist = tf.keras.datasets.mnist\n",
        "(x_train, y_train), (x_test, y_test) = mnist.load_data()  # Разделяем на тренировочные и тестовые данные\n",
        "\n",
        "# 2. Нормализуем данные (делим все пиксели на 255, чтобы значения были в диапазоне [0,1])\n",
        "x_train, x_test = x_train / 255.0, x_test / 255.0\n",
        "\n",
        "# 3. Создаём модель нейросети - последовательная модель (слои идут друг за другом)\n",
        "model = models.Sequential([\n",
        "\n",
        "    # 3.1. Слой Flatten — \"разворачивает\" 2D изображение 28x28 в вектор длиной 784\n",
        "    layers.Flatten(input_shape=(28, 28)),\n",
        "\n",
        "    # 3.2. Скрытый слой с 128 нейронами, активация ReLU (только положительные сигналы проходят)\n",
        "    layers.Dense(128, activation='relu'),\n",
        "\n",
        "    # 3.3. Выходной слой из 10 нейронов (по одному на каждую цифру 0-9), активация softmax для вероятностей\n",
        "    layers.Dense(10, activation='softmax')\n",
        "])\n",
        "\n",
        "# 4. Компилируем модель — указываем оптимизатор, функцию потерь и метрику точности\n",
        "model.compile(optimizer='adam',\n",
        "              loss='sparse_categorical_crossentropy',\n",
        "              metrics=['accuracy'])\n",
        "\n",
        "# 5. Обучаем модель на тренировочных данных, 5 эпох (проходов по всему датасету)\n",
        "model.fit(x_train, y_train, epochs=5)\n",
        "\n",
        "# 6. Проверяем точность модели на тестовых данных\n",
        "test_loss, test_acc = model.evaluate(x_test, y_test, verbose=2)\n",
        "print(f\"Точность на тесте: {test_acc:.2f}\")"
      ]
    },
    {
      "cell_type": "code",
      "source": [
        "import numpy as np\n",
        "import matplotlib.pyplot as plt"
      ],
      "metadata": {
        "id": "1xJLRMuVL7x9"
      },
      "execution_count": null,
      "outputs": []
    },
    {
      "cell_type": "code",
      "source": [
        "# 7. Демонстрация предсказания на первом тестовом изображении\n",
        "img = x_test[5]  # Берём первое изображение из теста\n",
        "plt.imshow(img, cmap='gray')  # Показываем картинку (чёрно-белую)\n",
        "plt.show()"
      ],
      "metadata": {
        "id": "nKXZRaaPL6JX"
      },
      "execution_count": null,
      "outputs": []
    },
    {
      "cell_type": "code",
      "source": [
        "# Делаем предсказание нейросети\n",
        "pred = model.predict(img.reshape(1, 28, 28))  # reshape, чтобы добавить размер батча\n",
        "print(f\"Нейросеть думает, что это цифра: {np.argmax(pred)}\")  # Выводим номер цифры с максимальной вероятностью"
      ],
      "metadata": {
        "id": "yeoE3g5FMF7O"
      },
      "execution_count": null,
      "outputs": []
    },
    {
      "cell_type": "markdown",
      "source": [
        "## Часть 2. Без TensorFlow (минимальная нейросеть на Python)\n"
      ],
      "metadata": {
        "id": "XW730xaxLoMh"
      }
    },
    {
      "cell_type": "code",
      "source": [
        "import numpy as np"
      ],
      "metadata": {
        "id": "oJiUiEEqMK71"
      },
      "execution_count": null,
      "outputs": []
    },
    {
      "cell_type": "code",
      "source": [
        "# Задание: Создайте простейшую нейросеть с одним нейроном, которая будет учиться распознавать цифру \"0\" или \"не 0\"\n",
        "# Используем метод градиентного спуска вручную и простой датасет. Попробуйте улучшить существующую нейросеть, чтобы она правильно угадывала тестовые данные.\n",
        "\n",
        "# Создадим искусственные данные: 5 примеров с 3 признаками (например, пиксели)\n",
        "X = np.array([\n",
        "    [0, 0, 0],  # цифра \"0\"\n",
        "    [0, 1, 0],  # не \"0\"\n",
        "    [1, 0, 1],  # не \"0\"\n",
        "    [0, 0, 1],  # не \"0\"\n",
        "    [0, 0, 0]   # цифра \"0\"\n",
        "])\n",
        "\n",
        "# Метки: 1 если цифра \"0\", 0 иначе\n",
        "y = np.array([1, 0, 0, 0, 1])\n",
        "\n",
        "# Инициализация весов случайно\n",
        "weights = np.random.rand(3)\n",
        "bias = 0.0\n",
        "learning_rate = 0.1"
      ],
      "metadata": {
        "id": "K0Ve5WWKLyXl"
      },
      "execution_count": null,
      "outputs": []
    },
    {
      "cell_type": "code",
      "source": [
        "# Функция активации - сигмоида\n",
        "def sigmoid(x):\n",
        "    return 1 / (1 + np.exp(-x))"
      ],
      "metadata": {
        "id": "0ge1f6JAMUz7"
      },
      "execution_count": null,
      "outputs": []
    },
    {
      "cell_type": "code",
      "source": [
        "# Обучение в 100 итераций\n",
        "for epoch in range(100):\n",
        "    for i in range(len(X)):\n",
        "        # Прямой проход\n",
        "        z = np.dot(weights, X[i]) + bias\n",
        "        pred = sigmoid(z)\n",
        "\n",
        "        # Ошибка\n",
        "        error = y[i] - pred\n",
        "\n",
        "        # Обратный проход (градиенты)\n",
        "        d_weights = error * pred * (1 - pred) * X[i]\n",
        "        d_bias = error * pred * (1 - pred)\n",
        "\n",
        "        # Обновление весов\n",
        "        weights += learning_rate * d_weights\n",
        "        bias += learning_rate * d_bias"
      ],
      "metadata": {
        "id": "6B-nQgRDMXZy"
      },
      "execution_count": null,
      "outputs": []
    },
    {
      "cell_type": "code",
      "source": [
        "# Проверим работу модели на новых данных\n",
        "test_samples = np.array([\n",
        "    [0, 0, 0],  # 0\n",
        "    [1, 1, 0],  # не 0\n",
        "])\n",
        "\n",
        "for sample in test_samples:\n",
        "    z = np.dot(weights, sample) + bias\n",
        "    pred = sigmoid(z)\n",
        "    print(f\"Вход: {sample}, Предсказание: {pred:.2f} → {'0' if pred > 0.5 else 'не 0'}\")"
      ],
      "metadata": {
        "id": "wM-7Js0QMaiv"
      },
      "execution_count": null,
      "outputs": []
    }
  ]
}